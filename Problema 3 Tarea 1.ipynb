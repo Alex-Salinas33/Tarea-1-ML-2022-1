{
 "cells": [
  {
   "cell_type": "markdown",
   "metadata": {},
   "source": [
    "Problema 3: Calcular el error estándar de las betas del modelo lineal, les expliqué la idea de este problema."
   ]
  },
  {
   "cell_type": "code",
   "execution_count": 82,
   "metadata": {},
   "outputs": [],
   "source": [
    "import pandas as pd\n",
    "from math import sqrt\n",
    "from statistics import mean\n",
    "import numpy as np\n",
    "import scipy as sc\n",
    "import random\n",
    "import scipy.stats\n",
    "import matplotlib.pyplot as plt\n",
    "from sklearn import linear_model\n",
    "from sklearn.linear_model import LinearRegression\n"
   ]
  },
  {
   "cell_type": "code",
   "execution_count": 83,
   "metadata": {},
   "outputs": [],
   "source": [
    "#cargar los datos y definir las variables\n",
    "\n",
    "datos=pd.read_excel('lineal_horm.xlsx')\n",
    "X_values=np.array(datos['horas'])\n",
    "Y_values=np.array(datos['monto'])\n",
    "\n",
    "# Volver un vector los datos\n",
    "\n",
    "X_values=X_values.reshape(-1,1)\n",
    "Y_values=Y_values.reshape(-1,1)"
   ]
  },
  {
   "cell_type": "code",
   "execution_count": 84,
   "metadata": {},
   "outputs": [],
   "source": [
    "# Cargar la función de regresión lineal, definir el num de simulaciones y un vector en donde almacenaremos\n",
    "#(B_0,B_1) respectivamente de la regresión, el vector en cada entrada tendrá un par ordenado\n",
    "\n",
    "random.seed(123)\n",
    "\n",
    "reg = linear_model.LinearRegression()\n",
    "simul=2000\n",
    "valores_intercept=np.array([]) \n",
    "valores_coef=np.array([])\n",
    "\n",
    "for i in range(0,simul):\n",
    "    \n",
    "    ###### Inicio de Bootstrap ######\n",
    "    indices_xi=np.random.choice(len(X_values),len(X_values),replace=True)\n",
    "    indices_yi=np.random.choice(len(Y_values),len(Y_values),replace=True)\n",
    "    \n",
    "    x_i=X_values[indices_xi]\n",
    "    y_i=Y_values[indices_yi]\n",
    "\n",
    "    \n",
    "    ##### Fin de bootstrap #####\n",
    "    \n",
    "    # Calculamos todas las regresion para cada remuestreo y guardamos sus parametros\n",
    "    a_i=reg.fit(x_i,y_i)\n",
    "    valores_intercept=np.append(valores_intercept,a_i.intercept_)\n",
    "    valores_coef=np.append(valores_coef,a_i.coef_)"
   ]
  },
  {
   "cell_type": "code",
   "execution_count": 144,
   "metadata": {},
   "outputs": [
    {
     "data": {
      "image/png": "[encoded data removed]",
      "text/plain": [
       "<Figure size 432x288 with 1 Axes>"
      ]
     },
     "metadata": {
      "needs_background": "light"
     },
     "output_type": "display_data"
    },
    {
     "data": {
      "text/plain": [
       "<Figure size 432x288 with 0 Axes>"
      ]
     },
     "metadata": {},
     "output_type": "display_data"
    }
   ],
   "source": [
    "plt.title('Histograma de los interceptos ajustados de las muestras Bootstrap')\n",
    "plt.hist(valores_intercept, bins = 70)\n",
    "plt.grid(True)\n",
    "plt.show()\n",
    "plt.clf()"
   ]
  },
  {
   "cell_type": "code",
   "execution_count": 146,
   "metadata": {},
   "outputs": [
    {
     "data": {
      "image/png": "[encoded data removed]",
      "text/plain": [
       "<Figure size 432x288 with 1 Axes>"
      ]
     },
     "metadata": {
      "needs_background": "light"
     },
     "output_type": "display_data"
    },
    {
     "data": {
      "text/plain": [
       "<Figure size 432x288 with 0 Axes>"
      ]
     },
     "metadata": {},
     "output_type": "display_data"
    }
   ],
   "source": [
    "plt.title('Histograma de las pendientes ajustadas de las muestras Bootstrap')\n",
    "plt.hist(valores_coef, bins = 70)\n",
    "plt.grid(True)\n",
    "plt.show()\n",
    "plt.clf()"
   ]
  },
  {
   "cell_type": "code",
   "execution_count": 87,
   "metadata": {},
   "outputs": [],
   "source": [
    "def mean_confidence_interval(data, confidence=0.95):\n",
    "    a = 1.0 * np.array(data)\n",
    "    n = len(a)\n",
    "    m, se = np.mean(a), scipy.stats.sem(a)\n",
    "    h = se * scipy.stats.t.ppf((1 + confidence) / 2., n-1)\n",
    "    return m, m-h, m+h"
   ]
  },
  {
   "cell_type": "code",
   "execution_count": 88,
   "metadata": {},
   "outputs": [
    {
     "data": {
      "text/plain": [
       "(24.721747307873766, 24.616995796542504, 24.826498819205028)"
      ]
     },
     "execution_count": 88,
     "metadata": {},
     "output_type": "execute_result"
    }
   ],
   "source": [
    "mean_confidence_interval(valores_intercept, confidence=0.95)"
   ]
  },
  {
   "cell_type": "code",
   "execution_count": 89,
   "metadata": {},
   "outputs": [
    {
     "data": {
      "text/plain": [
       "(-0.00022242565132376646, -0.0007786805676503064, 0.00033382926500277353)"
      ]
     },
     "execution_count": 89,
     "metadata": {},
     "output_type": "execute_result"
    }
   ],
   "source": [
    "mean_confidence_interval(valores_coef, confidence=0.95)"
   ]
  },
  {
   "cell_type": "markdown",
   "metadata": {},
   "source": [
    "Ahora vamos a calcular los errores estandar estimados de los parámetros obtenidos de las muestras bootstrap. Usamos la formula:\n",
    "$\\\\$\n",
    "$ \\hat{se_{boot}}= \\sqrt{\\sum_{j = 1}^{B} \\frac{(S(X^{j})-\\sum_{j = 1}^{B} \\frac{S(X^{j})}{B})^{2}}{B-1}}$\n"
   ]
  },
  {
   "cell_type": "code",
   "execution_count": 147,
   "metadata": {},
   "outputs": [],
   "source": [
    "\n",
    "def se_boot(X):\n",
    "    B = len(X)\n",
    "    sum1 = mean(X)\n",
    "    sum2 = 0\n",
    "    for j in range(B):\n",
    "        sum2 += ((X[j] - sum1)**2)/(B - 1)\n",
    "    return sqrt(sum2)\n",
    "    \n",
    "        \n",
    "        \n"
   ]
  },
  {
   "cell_type": "code",
   "execution_count": 92,
   "metadata": {},
   "outputs": [],
   "source": [
    "#el error estandar estimado para el intercepto\n",
    "se_intercept = se_boot(valores_intercept)"
   ]
  },
  {
   "cell_type": "code",
   "execution_count": 93,
   "metadata": {},
   "outputs": [
    {
     "data": {
      "text/plain": [
       "2.3887140755523473"
      ]
     },
     "execution_count": 93,
     "metadata": {},
     "output_type": "execute_result"
    }
   ],
   "source": [
    "se_intercept"
   ]
  },
  {
   "cell_type": "code",
   "execution_count": 94,
   "metadata": {},
   "outputs": [],
   "source": [
    "# el error estandar estimado para la pendiente\n",
    "media_boot_intercept = mean(valores_intercept)"
   ]
  },
  {
   "cell_type": "code",
   "execution_count": 95,
   "metadata": {},
   "outputs": [
    {
     "data": {
      "text/plain": [
       "24.72174730787377"
      ]
     },
     "execution_count": 95,
     "metadata": {},
     "output_type": "execute_result"
    }
   ],
   "source": [
    "media_boot_intercept"
   ]
  },
  {
   "cell_type": "code",
   "execution_count": 96,
   "metadata": {},
   "outputs": [
    {
     "data": {
      "text/plain": [
       "[22.333033232321423, 27.110461383426117]"
      ]
     },
     "execution_count": 96,
     "metadata": {},
     "output_type": "execute_result"
    }
   ],
   "source": [
    "# el intervalo centrado en la media de los valores calculados del intercepto \n",
    "#a partir de la muestra bootstrap, con radio error estandar estimado\n",
    "[media_boot_intercept - se_intercept,media_boot_intercept + se_intercept]"
   ]
  },
  {
   "cell_type": "markdown",
   "metadata": {},
   "source": [
    "vemos que el intervalo para el intercepto centrado en la media y de radio error estandar es más grande que el intervalo de confianza que se obtuvo anteriormente"
   ]
  },
  {
   "cell_type": "code",
   "execution_count": null,
   "metadata": {},
   "outputs": [],
   "source": []
  },
  {
   "cell_type": "code",
   "execution_count": null,
   "metadata": {},
   "outputs": [],
   "source": []
  },
  {
   "cell_type": "code",
   "execution_count": 97,
   "metadata": {},
   "outputs": [],
   "source": [
    "#el error estandar estimado para la pendiente\n",
    "\n",
    "se_coef=se_boot(valores_coef)"
   ]
  },
  {
   "cell_type": "code",
   "execution_count": 98,
   "metadata": {},
   "outputs": [
    {
     "data": {
      "text/plain": [
       "0.01268462794796769"
      ]
     },
     "execution_count": 98,
     "metadata": {},
     "output_type": "execute_result"
    }
   ],
   "source": [
    "se_coef"
   ]
  },
  {
   "cell_type": "code",
   "execution_count": 129,
   "metadata": {},
   "outputs": [],
   "source": [
    "media_boot_coef = mean(valores_coef)"
   ]
  },
  {
   "cell_type": "code",
   "execution_count": 130,
   "metadata": {},
   "outputs": [
    {
     "data": {
      "text/plain": [
       "[-0.012907053599291457, 0.012462202296643925]"
      ]
     },
     "execution_count": 130,
     "metadata": {},
     "output_type": "execute_result"
    }
   ],
   "source": [
    "# el intervalo centrado en la media de los valores calculados de la pendiente \n",
    "#a partir de la muestra bootstrap, con radio error estandar estimado\n",
    "[media_boot_coef-se_coef,media_boot_coef+se_coef]"
   ]
  },
  {
   "cell_type": "markdown",
   "metadata": {},
   "source": [
    "vemos que los intervalos \"clásicos\" no coinciden con los intervalos que creamos centramos en la media de los estimadores \"Bootstrap\" con radio el error estandar, de hecho son más grandes, con una significancia menos exigente se podrían acercar más ambos intervalos."
   ]
  },
  {
   "cell_type": "code",
   "execution_count": null,
   "metadata": {},
   "outputs": [],
   "source": []
  }
 ],
 "metadata": {
  "kernelspec": {
   "display_name": "Python 3",
   "language": "python",
   "name": "python3"
  },
  "language_info": {
   "codemirror_mode": {
    "name": "ipython",
    "version": 3
   },
   "file_extension": ".py",
   "mimetype": "text/x-python",
   "name": "python",
   "nbconvert_exporter": "python",
   "pygments_lexer": "ipython3",
   "version": "3.8.8"
  }
 },
 "nbformat": 4,
 "nbformat_minor": 4
}
