{
 "cells": [
  {
   "cell_type": "markdown",
   "metadata": {},
   "source": [
    "Problema 2:\n",
    "De la base data_schools sacar obtener el error estándar con Bootstrap de las variables de la base. \n",
    "Recordemos que tienen que simular $N$ Muestras Boostrap con tamño $n$. Luego, el otro ejercicio es que lo hagan con $n-1$."
   ]
  },
  {
   "cell_type": "code",
   "execution_count": 1,
   "metadata": {},
   "outputs": [],
   "source": [
    "from pylab import*\n",
    "import numpy as np\n",
    "import scipy.stats \n",
    "from scipy.stats import spearmanr\n",
    "import pandas as pd"
   ]
  },
  {
   "cell_type": "code",
   "execution_count": 2,
   "metadata": {},
   "outputs": [
    {
     "data": {
      "text/html": [
       "<div>\n",
       "<style scoped>\n",
       "    .dataframe tbody tr th:only-of-type {\n",
       "        vertical-align: middle;\n",
       "    }\n",
       "\n",
       "    .dataframe tbody tr th {\n",
       "        vertical-align: top;\n",
       "    }\n",
       "\n",
       "    .dataframe thead th {\n",
       "        text-align: right;\n",
       "    }\n",
       "</style>\n",
       "<table border=\"1\" class=\"dataframe\">\n",
       "  <thead>\n",
       "    <tr style=\"text-align: right;\">\n",
       "      <th></th>\n",
       "      <th>escuela</th>\n",
       "      <th>LSAT</th>\n",
       "      <th>GPA</th>\n",
       "    </tr>\n",
       "  </thead>\n",
       "  <tbody>\n",
       "    <tr>\n",
       "      <td>0</td>\n",
       "      <td>1</td>\n",
       "      <td>622</td>\n",
       "      <td>3.23</td>\n",
       "    </tr>\n",
       "    <tr>\n",
       "      <td>1</td>\n",
       "      <td>2</td>\n",
       "      <td>542</td>\n",
       "      <td>2.83</td>\n",
       "    </tr>\n",
       "    <tr>\n",
       "      <td>2</td>\n",
       "      <td>3</td>\n",
       "      <td>579</td>\n",
       "      <td>3.24</td>\n",
       "    </tr>\n",
       "    <tr>\n",
       "      <td>3</td>\n",
       "      <td>4</td>\n",
       "      <td>653</td>\n",
       "      <td>3.12</td>\n",
       "    </tr>\n",
       "    <tr>\n",
       "      <td>4</td>\n",
       "      <td>5</td>\n",
       "      <td>606</td>\n",
       "      <td>3.09</td>\n",
       "    </tr>\n",
       "    <tr>\n",
       "      <td>...</td>\n",
       "      <td>...</td>\n",
       "      <td>...</td>\n",
       "      <td>...</td>\n",
       "    </tr>\n",
       "    <tr>\n",
       "      <td>77</td>\n",
       "      <td>78</td>\n",
       "      <td>590</td>\n",
       "      <td>3.15</td>\n",
       "    </tr>\n",
       "    <tr>\n",
       "      <td>78</td>\n",
       "      <td>79</td>\n",
       "      <td>558</td>\n",
       "      <td>2.81</td>\n",
       "    </tr>\n",
       "    <tr>\n",
       "      <td>79</td>\n",
       "      <td>80</td>\n",
       "      <td>611</td>\n",
       "      <td>3.16</td>\n",
       "    </tr>\n",
       "    <tr>\n",
       "      <td>80</td>\n",
       "      <td>81</td>\n",
       "      <td>564</td>\n",
       "      <td>3.02</td>\n",
       "    </tr>\n",
       "    <tr>\n",
       "      <td>81</td>\n",
       "      <td>82</td>\n",
       "      <td>575</td>\n",
       "      <td>2.74</td>\n",
       "    </tr>\n",
       "  </tbody>\n",
       "</table>\n",
       "<p>82 rows × 3 columns</p>\n",
       "</div>"
      ],
      "text/plain": [
       "    escuela  LSAT   GPA\n",
       "0         1   622  3.23\n",
       "1         2   542  2.83\n",
       "2         3   579  3.24\n",
       "3         4   653  3.12\n",
       "4         5   606  3.09\n",
       "..      ...   ...   ...\n",
       "77       78   590  3.15\n",
       "78       79   558  2.81\n",
       "79       80   611  3.16\n",
       "80       81   564  3.02\n",
       "81       82   575  2.74\n",
       "\n",
       "[82 rows x 3 columns]"
      ]
     },
     "execution_count": 2,
     "metadata": {},
     "output_type": "execute_result"
    }
   ],
   "source": [
    "datos_escuelas=pd.read_excel('data_schools.xlsx')\n",
    "datos_escuelas"
   ]
  },
  {
   "cell_type": "code",
   "execution_count": 3,
   "metadata": {},
   "outputs": [],
   "source": [
    "#Primero recordemos la correlación que teniamos con solo seleccionar 15 escuelas\n",
    "\n",
    "#Seleccionamos aleatoriamente 15 escuelas\n",
    "escuelas_random=datos_escuelas.sample(n=15,random_state=9998)[[\"escuela\"]]\n",
    "escuelas_random[\"f_seleccion\"]=1"
   ]
  },
  {
   "cell_type": "code",
   "execution_count": 4,
   "metadata": {},
   "outputs": [],
   "source": [
    "datos_escuel=pd.merge(datos_escuelas, escuelas_random, how=\"left\", on=[\"escuela\"])\n",
    "datos_escuel[\"f_seleccion\"]=datos_escuel[\"f_seleccion\"].fillna(0)\n",
    "datos_escuel[\"f_seleccion\"]=datos_escuel[\"f_seleccion\"].astype(int)"
   ]
  },
  {
   "cell_type": "code",
   "execution_count": 5,
   "metadata": {},
   "outputs": [
    {
     "name": "stdout",
     "output_type": "stream",
     "text": [
      "Spearmans correlation: 0.659\n"
     ]
    }
   ],
   "source": [
    "#Correlación con las 15 escuelas seleccionadas\n",
    "corrg, _ = spearmanr(datos_escuel[datos_escuel[\"f_seleccion\"]==1].LSAT, datos_escuel[datos_escuel[\"f_seleccion\"]==1].GPA)\n",
    "print('Spearmans correlation: %.3f' % corrg)"
   ]
  },
  {
   "cell_type": "code",
   "execution_count": 6,
   "metadata": {},
   "outputs": [
    {
     "name": "stdout",
     "output_type": "stream",
     "text": [
      "Spearmans correlation: 0.753\n"
     ]
    }
   ],
   "source": [
    "#Correlación general\n",
    "corr, _ = spearmanr(datos_escuelas.LSAT, datos_escuelas.GPA)\n",
    "print('Spearmans correlation: %.3f' % corr)"
   ]
  },
  {
   "cell_type": "code",
   "execution_count": 7,
   "metadata": {},
   "outputs": [
    {
     "name": "stdout",
     "output_type": "stream",
     "text": [
      "¿Cuantas muestras desea realizar?\n",
      "1000\n",
      "¿Cúal será el tamaño de cada muestra?\n",
      "15\n"
     ]
    },
    {
     "data": {
      "image/png": "[encoded data removed]",
      "text/plain": [
       "<Figure size 648x432 with 1 Axes>"
      ]
     },
     "metadata": {
      "needs_background": "light"
     },
     "output_type": "display_data"
    }
   ],
   "source": [
    "#Ahora, se hará el remuestreo con N=1000 bootstrap seleccionando 15 datos al azar diferentes en cada iteración, CON remplazo\n",
    "#para n=15\n",
    "print(\"¿Cuantas muestras desea realizar?\")\n",
    "siml=int(input())\n",
    "print(\"¿Cúal será el tamaño de cada muestra?\")\n",
    "n=int(input())\n",
    "corre=np.array( [ ])\n",
    "escuelas=datos_escuelas[\"escuela\"]\n",
    "np.random.seed(23)\n",
    "for i in range(0,siml):\n",
    "    x_i=pd.DataFrame({'escuela': np.random.choice(escuelas,n,replace=True)})\n",
    "    m = pd.merge(datos_escuelas,x_i,on=\"escuela\")\n",
    "    corr,_= spearmanr(m.LSAT, m.GPA)\n",
    "    corre=np.append(corre,corr)\n",
    "\n",
    "#haciendo el histograma tenemos\n",
    "fig, ax = plt.subplots(figsize=(9,6))\n",
    "hist(corre,bins=50,alpha=0.5,edgecolor=\"black\",label=\"Correlación con B\")\n",
    "axvline(x=corrg,color='red', linestyle='--',linewidth=3,label=\"Correlación sin B\")\n",
    "legend()\n",
    "show()"
   ]
  },
  {
   "cell_type": "code",
   "execution_count": 8,
   "metadata": {},
   "outputs": [
    {
     "data": {
      "image/png": "[encoded data removed]",
      "text/plain": [
       "<Figure size 648x432 with 1 Axes>"
      ]
     },
     "metadata": {
      "needs_background": "light"
     },
     "output_type": "display_data"
    }
   ],
   "source": [
    "#para n-1\n",
    "siml=siml\n",
    "n1=n-1\n",
    "corre2=np.array( [ ])\n",
    "escuelas=datos_escuelas[\"escuela\"]\n",
    "np.random.seed(23)\n",
    "for i in range(0,siml):\n",
    "    x_i=pd.DataFrame({'escuela': np.random.choice(escuelas,n1,replace=True)})\n",
    "    m = pd.merge(datos_escuelas,x_i,on=\"escuela\")\n",
    "    corr,_= spearmanr(m.LSAT, m.GPA)\n",
    "    corre2=np.append(corre2,corr)\n",
    "\n",
    "#para este histograma tenemos\n",
    "fig, ax = plt.subplots(figsize=(9,6))\n",
    "hist(corre2,bins=50,alpha=0.5,edgecolor=\"black\",label=\"Correlación con B\")\n",
    "axvline(x=corrg,color='red', linestyle='--',linewidth=3,label=\"Correlación sin B\")\n",
    "legend()\n",
    "show()"
   ]
  },
  {
   "cell_type": "markdown",
   "metadata": {},
   "source": [
    "Calculamos el error estandar con Bootstrap usando la formula:\n",
    "$\\\\$\n",
    "$ \\hat{se_{boot}}= \\sqrt{\\sum_{j = 1}^{B} \\frac{(S(X^{j})-\\sum_{j = 1}^{B} \\frac{S(X^{j})}{B})^{2}}{B-1}}$"
   ]
  },
  {
   "cell_type": "code",
   "execution_count": 9,
   "metadata": {},
   "outputs": [],
   "source": [
    "def se_boot(X):\n",
    "    B = len(X)\n",
    "    sum1 = mean(X)\n",
    "    sum2 = 0\n",
    "    for j in range(B):\n",
    "        sum2 += ((X[j] - sum1)**2)/(B - 1)\n",
    "    return sqrt(sum2)"
   ]
  },
  {
   "cell_type": "code",
   "execution_count": 10,
   "metadata": {},
   "outputs": [
    {
     "data": {
      "text/plain": [
       "0.1472463888736324"
      ]
     },
     "execution_count": 10,
     "metadata": {},
     "output_type": "execute_result"
    }
   ],
   "source": [
    "#error al ocupar N=1000 y n=15\n",
    "se_boot(corre)"
   ]
  },
  {
   "cell_type": "code",
   "execution_count": 11,
   "metadata": {},
   "outputs": [
    {
     "data": {
      "text/plain": [
       "0.15533686942557978"
      ]
     },
     "execution_count": 11,
     "metadata": {},
     "output_type": "execute_result"
    }
   ],
   "source": [
    "#error al ocupar N=1000 y n-1=14\n",
    "se_boot(corre2)"
   ]
  },
  {
   "cell_type": "markdown",
   "metadata": {},
   "source": [
    "El código esta diseñado para que el usuario pueda dar el número de simulaciones ($N$) y el tamaño de cada muestra ($n$), tomando como ejemplo $N=1000$ y $n=15$, observamos lo siguiente:\\\n",
    "Tanto para el remuestreo Bootstrap con $n=15$, como para $n=14$ (n-1), otuvimos un error estandar relativamente pequeño, esto era de esperarse ya que al observar las gráficas notamos que no hay una concentración en valores atipicos, es decir, el coeficiente de correlación se concentra más a partir del coeficiente de correlación general (.753) en adelante.\\\n",
    "Cabe mencionar que el error es menor cuando nos tomamos una $n$ a cuando nos tomamos $n-1$ y de igual manera, es congruente. Si la muestra la estamos tomando para una n pequeña y con reamplazo, lo que se esta haciendo es recoger valores que nos estan sesgando los resultlados.\n",
    "Lo que se esperaría es que para una n mayor a la que nos tomamos, el error sea más pequeño, posiblemente tendremos valores atipicos pero en menor medida."
   ]
  },
  {
   "cell_type": "code",
   "execution_count": 12,
   "metadata": {},
   "outputs": [
    {
     "name": "stdout",
     "output_type": "stream",
     "text": [
      "¿Cuantas muestras desea realizar?\n",
      "1000\n",
      "¿Cúal será el tamaño de cada muestra?\n",
      "41\n"
     ]
    },
    {
     "data": {
      "image/png": "[encoded data removed]",
      "text/plain": [
       "<Figure size 648x432 with 1 Axes>"
      ]
     },
     "metadata": {
      "needs_background": "light"
     },
     "output_type": "display_data"
    }
   ],
   "source": [
    "#al tomarnos otra n (41)\n",
    "print(\"¿Cuantas muestras desea realizar?\")\n",
    "siml=int(input())\n",
    "print(\"¿Cúal será el tamaño de cada muestra?\")\n",
    "n=int(input())\n",
    "corre=np.array( [ ])\n",
    "escuelas=datos_escuelas[\"escuela\"]\n",
    "np.random.seed(23)\n",
    "for i in range(0,siml):\n",
    "    x_i=pd.DataFrame({'escuela': np.random.choice(escuelas,n,replace=True)})\n",
    "    m = pd.merge(datos_escuelas,x_i,on=\"escuela\")\n",
    "    corr,_= spearmanr(m.LSAT, m.GPA)\n",
    "    corre=np.append(corre,corr)\n",
    "\n",
    "#histograma \n",
    "fig, ax = plt.subplots(figsize=(9,6))\n",
    "hist(corre,bins=50,alpha=0.5,edgecolor=\"black\",label=\"Correlación con B\")\n",
    "axvline(x=corrg,color='red', linestyle='--',linewidth=3,label=\"Correlación sin B\")\n",
    "legend()\n",
    "show()"
   ]
  },
  {
   "cell_type": "code",
   "execution_count": 13,
   "metadata": {},
   "outputs": [
    {
     "data": {
      "image/png": "[encoded data removed]",
      "text/plain": [
       "<Figure size 648x432 with 1 Axes>"
      ]
     },
     "metadata": {
      "needs_background": "light"
     },
     "output_type": "display_data"
    }
   ],
   "source": [
    "#con n-1\n",
    "siml=siml\n",
    "n1=n-1\n",
    "corre2=np.array( [ ])\n",
    "escuelas=datos_escuelas[\"escuela\"]\n",
    "np.random.seed(23)\n",
    "for i in range(0,siml):\n",
    "    x_i=pd.DataFrame({'escuela': np.random.choice(escuelas,n1,replace=True)})\n",
    "    m = pd.merge(datos_escuelas,x_i,on=\"escuela\")\n",
    "    corr,_= spearmanr(m.LSAT, m.GPA)\n",
    "    corre2=np.append(corre2,corr)\n",
    "\n",
    "#histograma \n",
    "fig, ax = plt.subplots(figsize=(9,6))\n",
    "hist(corre2,bins=50,alpha=0.5,edgecolor=\"black\",label=\"Correlación con B\")\n",
    "axvline(x=corrg,color='red', linestyle='--',linewidth=3,label=\"Correlación sin B\")\n",
    "legend()\n",
    "show()"
   ]
  },
  {
   "cell_type": "code",
   "execution_count": 14,
   "metadata": {},
   "outputs": [
    {
     "data": {
      "text/plain": [
       "0.07966834587964701"
      ]
     },
     "execution_count": 14,
     "metadata": {},
     "output_type": "execute_result"
    }
   ],
   "source": [
    "#error con n diferente\n",
    "se_boot(corre)"
   ]
  },
  {
   "cell_type": "code",
   "execution_count": 15,
   "metadata": {},
   "outputs": [
    {
     "data": {
      "text/plain": [
       "0.07735379597986393"
      ]
     },
     "execution_count": 15,
     "metadata": {},
     "output_type": "execute_result"
    }
   ],
   "source": [
    "#para n-1\n",
    "se_boot(corre2)"
   ]
  },
  {
   "cell_type": "markdown",
   "metadata": {},
   "source": [
    "Como podemos observar en las últimas dos gráficas y en los dos valores del error, a comparación de lo obtenido al ocupar una $n=15$, estos errores son más pequeños. Dado los resultados obtenidos, podemos decir que más nos afecta es el valor de la $n$.\n",
    "Sin embargo, al tomar una $n$ \"mayor\", cambia el valor del error, es decir,ahora para $n-1$ obtenemos un error menor a cuando nos tomamos $n$."
   ]
  },
  {
   "cell_type": "code",
   "execution_count": null,
   "metadata": {},
   "outputs": [],
   "source": []
  }
 ],
 "metadata": {
  "kernelspec": {
   "display_name": "Python 3",
   "language": "python",
   "name": "python3"
  },
  "language_info": {
   "codemirror_mode": {
    "name": "ipython",
    "version": 3
   },
   "file_extension": ".py",
   "mimetype": "text/x-python",
   "name": "python",
   "nbconvert_exporter": "python",
   "pygments_lexer": "ipython3",
   "version": "3.7.4"
  }
 },
 "nbformat": 4,
 "nbformat_minor": 5
}
